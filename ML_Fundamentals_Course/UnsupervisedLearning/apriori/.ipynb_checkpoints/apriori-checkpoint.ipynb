{
 "cells": [
  {
   "cell_type": "markdown",
   "metadata": {},
   "source": [
    "# Apriori Example"
   ]
  },
  {
   "cell_type": "code",
   "execution_count": 1,
   "metadata": {},
   "outputs": [],
   "source": [
    "import pandas as pd"
   ]
  },
  {
   "cell_type": "code",
   "execution_count": 4,
   "metadata": {},
   "outputs": [],
   "source": [
    "df = pd.read_csv('../data/lista_compras.csv')"
   ]
  },
  {
   "cell_type": "markdown",
   "metadata": {},
   "source": [
    "Transactional database"
   ]
  },
  {
   "cell_type": "code",
   "execution_count": 6,
   "metadata": {},
   "outputs": [
    {
     "data": {
      "text/html": [
       "<div>\n",
       "<style scoped>\n",
       "    .dataframe tbody tr th:only-of-type {\n",
       "        vertical-align: middle;\n",
       "    }\n",
       "\n",
       "    .dataframe tbody tr th {\n",
       "        vertical-align: top;\n",
       "    }\n",
       "\n",
       "    .dataframe thead th {\n",
       "        text-align: right;\n",
       "    }\n",
       "</style>\n",
       "<table border=\"1\" class=\"dataframe\">\n",
       "  <thead>\n",
       "    <tr style=\"text-align: right;\">\n",
       "      <th></th>\n",
       "      <th>almonds</th>\n",
       "      <th>antioxydant juice</th>\n",
       "      <th>asparagus</th>\n",
       "      <th>avocado</th>\n",
       "      <th>babies food</th>\n",
       "      <th>bacon</th>\n",
       "      <th>barbecue sauce</th>\n",
       "      <th>black tea</th>\n",
       "      <th>blueberries</th>\n",
       "      <th>body spray</th>\n",
       "      <th>...</th>\n",
       "      <th>turkey</th>\n",
       "      <th>vegetables mix</th>\n",
       "      <th>water spray</th>\n",
       "      <th>white wine</th>\n",
       "      <th>whole weat flour</th>\n",
       "      <th>whole wheat pasta</th>\n",
       "      <th>whole wheat rice</th>\n",
       "      <th>yams</th>\n",
       "      <th>yogurt cake</th>\n",
       "      <th>zucchini</th>\n",
       "    </tr>\n",
       "  </thead>\n",
       "  <tbody>\n",
       "    <tr>\n",
       "      <th>0</th>\n",
       "      <td>1.0</td>\n",
       "      <td>1.0</td>\n",
       "      <td>0.0</td>\n",
       "      <td>1.0</td>\n",
       "      <td>0.0</td>\n",
       "      <td>0.0</td>\n",
       "      <td>0.0</td>\n",
       "      <td>0.0</td>\n",
       "      <td>0.0</td>\n",
       "      <td>0.0</td>\n",
       "      <td>...</td>\n",
       "      <td>0.0</td>\n",
       "      <td>1.0</td>\n",
       "      <td>0.0</td>\n",
       "      <td>0.0</td>\n",
       "      <td>1.0</td>\n",
       "      <td>0.0</td>\n",
       "      <td>0.0</td>\n",
       "      <td>1.0</td>\n",
       "      <td>0.0</td>\n",
       "      <td>0.0</td>\n",
       "    </tr>\n",
       "    <tr>\n",
       "      <th>1</th>\n",
       "      <td>0.0</td>\n",
       "      <td>0.0</td>\n",
       "      <td>0.0</td>\n",
       "      <td>0.0</td>\n",
       "      <td>0.0</td>\n",
       "      <td>0.0</td>\n",
       "      <td>0.0</td>\n",
       "      <td>0.0</td>\n",
       "      <td>0.0</td>\n",
       "      <td>0.0</td>\n",
       "      <td>...</td>\n",
       "      <td>0.0</td>\n",
       "      <td>0.0</td>\n",
       "      <td>0.0</td>\n",
       "      <td>0.0</td>\n",
       "      <td>0.0</td>\n",
       "      <td>0.0</td>\n",
       "      <td>0.0</td>\n",
       "      <td>0.0</td>\n",
       "      <td>0.0</td>\n",
       "      <td>0.0</td>\n",
       "    </tr>\n",
       "    <tr>\n",
       "      <th>2</th>\n",
       "      <td>0.0</td>\n",
       "      <td>0.0</td>\n",
       "      <td>0.0</td>\n",
       "      <td>0.0</td>\n",
       "      <td>0.0</td>\n",
       "      <td>0.0</td>\n",
       "      <td>0.0</td>\n",
       "      <td>0.0</td>\n",
       "      <td>0.0</td>\n",
       "      <td>0.0</td>\n",
       "      <td>...</td>\n",
       "      <td>0.0</td>\n",
       "      <td>0.0</td>\n",
       "      <td>0.0</td>\n",
       "      <td>0.0</td>\n",
       "      <td>0.0</td>\n",
       "      <td>0.0</td>\n",
       "      <td>0.0</td>\n",
       "      <td>0.0</td>\n",
       "      <td>0.0</td>\n",
       "      <td>0.0</td>\n",
       "    </tr>\n",
       "    <tr>\n",
       "      <th>3</th>\n",
       "      <td>0.0</td>\n",
       "      <td>0.0</td>\n",
       "      <td>0.0</td>\n",
       "      <td>1.0</td>\n",
       "      <td>0.0</td>\n",
       "      <td>0.0</td>\n",
       "      <td>0.0</td>\n",
       "      <td>0.0</td>\n",
       "      <td>0.0</td>\n",
       "      <td>0.0</td>\n",
       "      <td>...</td>\n",
       "      <td>1.0</td>\n",
       "      <td>0.0</td>\n",
       "      <td>0.0</td>\n",
       "      <td>0.0</td>\n",
       "      <td>0.0</td>\n",
       "      <td>0.0</td>\n",
       "      <td>0.0</td>\n",
       "      <td>0.0</td>\n",
       "      <td>0.0</td>\n",
       "      <td>0.0</td>\n",
       "    </tr>\n",
       "    <tr>\n",
       "      <th>4</th>\n",
       "      <td>0.0</td>\n",
       "      <td>0.0</td>\n",
       "      <td>0.0</td>\n",
       "      <td>0.0</td>\n",
       "      <td>0.0</td>\n",
       "      <td>0.0</td>\n",
       "      <td>0.0</td>\n",
       "      <td>0.0</td>\n",
       "      <td>0.0</td>\n",
       "      <td>0.0</td>\n",
       "      <td>...</td>\n",
       "      <td>0.0</td>\n",
       "      <td>0.0</td>\n",
       "      <td>0.0</td>\n",
       "      <td>0.0</td>\n",
       "      <td>0.0</td>\n",
       "      <td>0.0</td>\n",
       "      <td>1.0</td>\n",
       "      <td>0.0</td>\n",
       "      <td>0.0</td>\n",
       "      <td>0.0</td>\n",
       "    </tr>\n",
       "  </tbody>\n",
       "</table>\n",
       "<p>5 rows × 120 columns</p>\n",
       "</div>"
      ],
      "text/plain": [
       "   almonds  antioxydant juice  asparagus  avocado  babies food  bacon  \\\n",
       "0      1.0                1.0        0.0      1.0          0.0    0.0   \n",
       "1      0.0                0.0        0.0      0.0          0.0    0.0   \n",
       "2      0.0                0.0        0.0      0.0          0.0    0.0   \n",
       "3      0.0                0.0        0.0      1.0          0.0    0.0   \n",
       "4      0.0                0.0        0.0      0.0          0.0    0.0   \n",
       "\n",
       "   barbecue sauce  black tea  blueberries  body spray  ...  turkey  \\\n",
       "0             0.0        0.0          0.0         0.0  ...     0.0   \n",
       "1             0.0        0.0          0.0         0.0  ...     0.0   \n",
       "2             0.0        0.0          0.0         0.0  ...     0.0   \n",
       "3             0.0        0.0          0.0         0.0  ...     1.0   \n",
       "4             0.0        0.0          0.0         0.0  ...     0.0   \n",
       "\n",
       "   vegetables mix  water spray  white wine  whole weat flour  \\\n",
       "0             1.0          0.0         0.0               1.0   \n",
       "1             0.0          0.0         0.0               0.0   \n",
       "2             0.0          0.0         0.0               0.0   \n",
       "3             0.0          0.0         0.0               0.0   \n",
       "4             0.0          0.0         0.0               0.0   \n",
       "\n",
       "   whole wheat pasta  whole wheat rice  yams  yogurt cake  zucchini  \n",
       "0                0.0               0.0   1.0          0.0       0.0  \n",
       "1                0.0               0.0   0.0          0.0       0.0  \n",
       "2                0.0               0.0   0.0          0.0       0.0  \n",
       "3                0.0               0.0   0.0          0.0       0.0  \n",
       "4                0.0               1.0   0.0          0.0       0.0  \n",
       "\n",
       "[5 rows x 120 columns]"
      ]
     },
     "execution_count": 6,
     "metadata": {},
     "output_type": "execute_result"
    }
   ],
   "source": [
    "df.head()"
   ]
  },
  {
   "cell_type": "code",
   "execution_count": 7,
   "metadata": {},
   "outputs": [
    {
     "data": {
      "text/plain": [
       "(7501, 120)"
      ]
     },
     "execution_count": 7,
     "metadata": {},
     "output_type": "execute_result"
    }
   ],
   "source": [
    "df.shape"
   ]
  },
  {
   "cell_type": "markdown",
   "metadata": {},
   "source": [
    "support ( ocurrence frequency )\n",
    "\n",
    "support = sum of occurences / total of occurences\n",
    "\n",
    "reliability = ocurrences of A and B / Occurences of A"
   ]
  },
  {
   "cell_type": "code",
   "execution_count": 27,
   "metadata": {},
   "outputs": [],
   "source": [
    "sup = df.sum()/len(df)"
   ]
  },
  {
   "cell_type": "markdown",
   "metadata": {},
   "source": [
    "get items which frequency are above 5%"
   ]
  },
  {
   "cell_type": "code",
   "execution_count": 18,
   "metadata": {},
   "outputs": [],
   "source": [
    "sup_items = sup[sup >= 0.05]"
   ]
  },
  {
   "cell_type": "code",
   "execution_count": 25,
   "metadata": {},
   "outputs": [],
   "source": [
    "def rules_len_2(df, items, sup_rate=0.01, reliability_rate=0.3):\n",
    "    \"\"\"apriori algorithm\"\"\"\n",
    "    for i, item in enumerate(items):\n",
    "        for j in range(i+1, len(items)):\n",
    "            count_rule = len(df[(df[item] == 1) & \n",
    "                                (df[items[j]] == 1)])\n",
    "            support = count_rule / len(df)\n",
    "            if support >= sup_rate:\n",
    "                count_a = len(df[(df[item] == 1)])\n",
    "                reliability = count_rule/count_a\n",
    "                if reliability >= reliability_rate:\n",
    "                    print(item, '-->', items[j],\n",
    "                         '| support: ', support,\n",
    "                         '| reliability: ', reliability)"
   ]
  },
  {
   "cell_type": "code",
   "execution_count": 26,
   "metadata": {},
   "outputs": [
    {
     "name": "stdout",
     "output_type": "stream",
     "text": [
      "burgers --> eggs | support:  0.02879616051193174 | reliability:  0.3302752293577982\n",
      "cake --> mineral water | support:  0.027463004932675644 | reliability:  0.33881578947368424\n",
      "chicken --> mineral water | support:  0.022796960405279298 | reliability:  0.38\n",
      "chocolate --> mineral water | support:  0.05252632982269031 | reliability:  0.32084690553745926\n",
      "cooking oil --> mineral water | support:  0.020130649246767097 | reliability:  0.39425587467362927\n",
      "cooking oil --> spaghetti | support:  0.01586455139314758 | reliability:  0.31070496083550914\n",
      "frozen smoothie --> mineral water | support:  0.020263964804692707 | reliability:  0.32\n",
      "frozen vegetables --> mineral water | support:  0.03572856952406346 | reliability:  0.3748251748251748\n",
      "grated cheese --> mineral water | support:  0.0174643380882549 | reliability:  0.3333333333333333\n",
      "grated cheese --> spaghetti | support:  0.01653112918277563 | reliability:  0.3155216284987277\n",
      "ground beef --> mineral water | support:  0.040927876283162246 | reliability:  0.41655359565807326\n",
      "ground beef --> spaghetti | support:  0.03919477403012932 | reliability:  0.3989145183175034\n",
      "low fat yogurt --> mineral water | support:  0.023996800426609784 | reliability:  0.313588850174216\n",
      "milk --> mineral water | support:  0.04799360085321957 | reliability:  0.37037037037037035\n",
      "olive oil --> spaghetti | support:  0.022930275963204905 | reliability:  0.3481781376518219\n"
     ]
    }
   ],
   "source": [
    "rules_len_2(df, sup_items.index)"
   ]
  },
  {
   "cell_type": "code",
   "execution_count": null,
   "metadata": {},
   "outputs": [],
   "source": []
  }
 ],
 "metadata": {
  "kernelspec": {
   "display_name": "Python 3",
   "language": "python",
   "name": "python3"
  },
  "language_info": {
   "codemirror_mode": {
    "name": "ipython",
    "version": 3
   },
   "file_extension": ".py",
   "mimetype": "text/x-python",
   "name": "python",
   "nbconvert_exporter": "python",
   "pygments_lexer": "ipython3",
   "version": "3.8.2"
  }
 },
 "nbformat": 4,
 "nbformat_minor": 4
}
